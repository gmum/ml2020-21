{
 "cells": [
  {
   "cell_type": "markdown",
   "metadata": {
    "id": "ETFpFlCmeuSB"
   },
   "source": [
    "# Modele Seq2Seq i atencja\n",
    "Poniższy notebook jest inspirowany tym tutorialem PyTorcha: https://pytorch.org/tutorials/intermediate/seq2seq_translation_tutorial.html. Zachęcam żeby zajrzeć tam po więcej informacji.\n",
    "\n",
    "W tym notebooku będziemy próbować rozwiązać problem automatycznego tłumaczenia zdań z jednego języka naturalnego na drugi -- konkretniej z języka polskiego na angielski. Dla przykładu model otrzymujący zdanie:\n",
    "\n",
    "> Myślę, że mnie okłamałeś\n",
    "\n",
    "Powinien zwrócić zdanie\n",
    "> I think you lied to me.\n",
    "\n"
   ]
  },
  {
   "cell_type": "markdown",
   "metadata": {
    "id": "Do7k4lf0zsxu"
   },
   "source": [
    "# Importy i przygotowanie danych\n",
    "Poniżej znajdują się importy bibliotek potrzebnych do rozwiązania problemu a także skrypt do ładowania zbioru danych zawierającego pary zdań w języku polskim i angielskim. Poniższy kod można odpalić i schować, ale zachęcamy do zaznajomienia się z tym jak wygląda obróbka danych.\n"
   ]
  },
  {
   "cell_type": "code",
   "execution_count": null,
   "metadata": {
    "id": "zCAgsgj3d7Kf"
   },
   "outputs": [],
   "source": [
    "%matplotlib inline"
   ]
  },
  {
   "cell_type": "code",
   "execution_count": null,
   "metadata": {
    "id": "Z1yFSn0ld7Ki"
   },
   "outputs": [],
   "source": [
    "from __future__ import unicode_literals, print_function, division\n",
    "from io import open\n",
    "import matplotlib.pyplot as plt\n",
    "import matplotlib.ticker as ticker\n",
    "\n",
    "import unicodedata\n",
    "import string\n",
    "import numpy as np\n",
    "import re\n",
    "import random\n",
    "\n",
    "import torch\n",
    "import torch.nn as nn\n",
    "from torch import optim\n",
    "import torch.nn.functional as F\n",
    "\n",
    "from torch.utils.data import DataLoader\n",
    "from torch.nn.utils.rnn import pad_sequence\n",
    "\n",
    "device = torch.device(\"cuda\" if torch.cuda.is_available() else \"cpu\")"
   ]
  },
  {
   "cell_type": "code",
   "execution_count": null,
   "metadata": {
    "colab": {
     "base_uri": "https://localhost:8080/"
    },
    "id": "iUVJHRTXKoWh",
    "outputId": "867e58ae-5898-4b08-fd68-b51614e9b600"
   },
   "outputs": [
    {
     "name": "stdout",
     "output_type": "stream",
     "text": [
      "--2021-01-17 12:54:16--  https://raw.githubusercontent.com/gmum/ml2020-21/master/lab/resources/pol.txt\n",
      "Resolving raw.githubusercontent.com (raw.githubusercontent.com)... 151.101.0.133, 151.101.64.133, 151.101.128.133, ...\n",
      "Connecting to raw.githubusercontent.com (raw.githubusercontent.com)|151.101.0.133|:443... connected.\n",
      "HTTP request sent, awaiting response... 200 OK\n",
      "Length: 5865362 (5.6M) [text/plain]\n",
      "Saving to: ‘pol.txt.3’\n",
      "\n",
      "pol.txt.3           100%[===================>]   5.59M  --.-KB/s    in 0.06s   \n",
      "\n",
      "2021-01-17 12:54:16 (91.9 MB/s) - ‘pol.txt.3’ saved [5865362/5865362]\n",
      "\n"
     ]
    }
   ],
   "source": [
    "!wget https://raw.githubusercontent.com/gmum/ml2020-21/master/lab/resources/pol.txt"
   ]
  },
  {
   "cell_type": "markdown",
   "metadata": {
    "id": "5KnEaLlNpire"
   },
   "source": [
    "Poniżej przygotowujemy klasę `Lang` która będzie służyła jako struktura do obsługiwania naszego języka (osobna dla angielskiego i polskiego w naszym przypadku). Do każdego słowa w języku przypisujemy indeks (liczbę porządkową identyfikującą słowo). Dodatkowo definiujemy trzy dodatkowe indeksy:\n",
    "\n",
    "* 0 dla początku zdania (Start of Sentence, SOS)\n",
    "* 1 dla końca zdania (End of Sentence, EOS)\n",
    "* 2 dla paddingu (\"pustych\" wartości). Wartościami tymi będziemy wypełniać zdania w batchu tak, żeby wszystkie były równej długości -- dzięki temu łatwiej będzie zrównoleglić przetwarzanie ich na GPU."
   ]
  },
  {
   "cell_type": "code",
   "execution_count": null,
   "metadata": {
    "id": "E3DtzxXTd7Kk"
   },
   "outputs": [],
   "source": [
    "\n",
    "\n",
    "SOS_token = 0\n",
    "EOS_token = 1\n",
    "PAD_token = 2\n",
    "\n",
    "class Lang:\n",
    "    def __init__(self, name):\n",
    "        self.name = name\n",
    "        self.word2index = {}\n",
    "        self.word2count = {}\n",
    "        self.index2word = {0: \"SOS\", 1: \"EOS\", 2: \"PAD\"}\n",
    "        self.n_words = 3 # Count SOS, EOS and PAD\n",
    "\n",
    "    def addSentence(self, sentence):\n",
    "        for word in sentence.split(' '):\n",
    "            self.addWord(word)\n",
    "\n",
    "    def addWord(self, word):\n",
    "        if word not in self.word2index:\n",
    "            self.word2index[word] = self.n_words\n",
    "            self.word2count[word] = 1\n",
    "            self.index2word[self.n_words] = word\n",
    "            self.n_words += 1\n",
    "        else:\n",
    "            self.word2count[word] += 1"
   ]
  },
  {
   "cell_type": "markdown",
   "metadata": {
    "id": "KrV27D5Xryh1"
   },
   "source": [
    "Funkcje do normalizowania wchodzących zdań - zamieniamy Unicode na ASCII, zamieniamy wszystkie wielkie litery na małe itd."
   ]
  },
  {
   "cell_type": "code",
   "execution_count": null,
   "metadata": {
    "id": "JLLuOE80d7Kk"
   },
   "outputs": [],
   "source": [
    "# Turn a Unicode string to plain ASCII, thanks to\n",
    "# https://stackoverflow.com/a/518232/2809427\n",
    "def unicodeToAscii(s):\n",
    "    return ''.join(\n",
    "        c for c in unicodedata.normalize('NFD', s)\n",
    "        if unicodedata.category(c) != 'Mn'\n",
    "    )\n",
    "\n",
    "# Lowercase, trim, and remove non-letter characters\n",
    "\n",
    "\n",
    "def normalizeString(s):\n",
    "    s = unicodeToAscii(s.lower().strip())\n",
    "    s = s.replace(\"ł\", \"l\")\n",
    "    s = re.sub(r\"([.!?])\", r\" \\1\", s)\n",
    "    s = re.sub(r\"[^a-zA-Z.!?]+\", r\" \", s)\n",
    "    return s\n",
    "\n",
    "def readLangs(lang1, lang2, reverse=False):\n",
    "    print(\"Reading lines...\")\n",
    "\n",
    "    # Read the file and split into lines\n",
    "    lines = open(f'{lang1}.txt', encoding='utf-8').\\\n",
    "        read().strip().split('\\n')\n",
    "\n",
    "    # Split every line into pairs and normalize\n",
    "    pairs = [[normalizeString(s) for s in l.split('\\t')[:2]] for l in lines]\n",
    "\n",
    "    # Reverse pairs, make Lang instances\n",
    "    if reverse:\n",
    "        pairs = [list(reversed(p)) for p in pairs]\n",
    "        input_lang = Lang(lang2)\n",
    "        output_lang = Lang(lang1)\n",
    "    else:\n",
    "        input_lang = Lang(lang1)\n",
    "        output_lang = Lang(lang2)\n",
    "\n",
    "    return input_lang, output_lang, pairs"
   ]
  },
  {
   "cell_type": "markdown",
   "metadata": {
    "id": "7Ld3aJ9Nd7Kl"
   },
   "source": [
    "Wyrzućmy zdania które są zbyt długie (ponad 20 słów)."
   ]
  },
  {
   "cell_type": "code",
   "execution_count": null,
   "metadata": {
    "id": "E6fbLbiQd7Km"
   },
   "outputs": [],
   "source": [
    "MAX_LENGTH = 20\n",
    "\n",
    "def filterPair(p):\n",
    "    return len(p[0].split(' ')) <= MAX_LENGTH and \\\n",
    "        len(p[1].split(' ')) <= MAX_LENGTH\n",
    "\n",
    "\n",
    "def filterPairs(pairs):\n",
    "    return [pair for pair in pairs if filterPair(pair)]"
   ]
  },
  {
   "cell_type": "markdown",
   "metadata": {
    "id": "csmhl8Iod7Km"
   },
   "source": [
    "Pełny proces przetwarzania danych wygląda następująco:\n",
    "\n",
    "- Wczytujemy plik z danymi, dzielimy go na pary zdań.\n",
    "- Normalizujemy tekst\n",
    "- Zamieniamy zdania w listy słów.\n",
    "\n",
    "\n"
   ]
  },
  {
   "cell_type": "code",
   "execution_count": null,
   "metadata": {
    "colab": {
     "base_uri": "https://localhost:8080/"
    },
    "id": "iRd-fNMAd7Km",
    "outputId": "5e42a50d-1387-4863-ae92-6329f02c7c88"
   },
   "outputs": [
    {
     "name": "stdout",
     "output_type": "stream",
     "text": [
      "Reading lines...\n",
      "['idz .', 'go .']\n",
      "Read 40389 sentence pairs\n",
      "Trimmed to 40289 sentence pairs\n",
      "Counting words...\n",
      "Counted words:\n",
      "eng 20475\n",
      "pol 8084\n",
      "Przykładowe pary zdań:\n",
      "['tom ma duza rodzine .', 'tom has a big family .']\n",
      "['wyjdz z podniesionymi rekami .', 'come out with your hands up .']\n",
      "['niczego w ogole nie widzialem .', 'i didn t see anything at all .']\n"
     ]
    }
   ],
   "source": [
    "def prepareData(lang1, lang2, reverse=False):\n",
    "    input_lang, output_lang, pairs = readLangs(lang1, lang2, reverse)\n",
    "    print(pairs[0])\n",
    "    print(f\"Read {len(pairs)} sentence pairs\")\n",
    "    pairs = filterPairs(pairs)\n",
    "    print(f\"Trimmed to {len(pairs)} sentence pairs\")\n",
    "    print(\"Counting words...\")\n",
    "    for pair in pairs:\n",
    "        input_lang.addSentence(pair[0])\n",
    "        output_lang.addSentence(pair[1])\n",
    "    print(\"Counted words:\")\n",
    "    print(input_lang.name, input_lang.n_words)\n",
    "    print(output_lang.name, output_lang.n_words)\n",
    "    return input_lang, output_lang, pairs\n",
    "\n",
    "\n",
    "input_lang, output_lang, pairs = prepareData('pol', 'eng', True)\n",
    "print(\"Przykładowe pary zdań:\")\n",
    "for _ in range(3):\n",
    "    print(random.choice(pairs))"
   ]
  },
  {
   "cell_type": "markdown",
   "metadata": {
    "id": "AQc1t2ArshOa"
   },
   "source": [
    "Na koniec definiujemy jeszcze funkcje, które pozwolą nam zamienić zdania w tensory, które nasza sieć będzie w stanie zrozumieć."
   ]
  },
  {
   "cell_type": "code",
   "execution_count": null,
   "metadata": {
    "id": "leinIgjGd7Kq"
   },
   "outputs": [],
   "source": [
    "def indexesFromSentence(lang, sentence):\n",
    "    return [lang.word2index[word] for word in sentence.split(' ')]\n",
    "\n",
    "def tensorFromSentence(lang, sentence):\n",
    "    indexes = indexesFromSentence(lang, sentence)\n",
    "    indexes.append(EOS_token)\n",
    "    return torch.tensor(indexes, dtype=torch.long, device=device).view(-1)\n",
    "\n",
    "def tensorsFromPair(pair):\n",
    "    input_tensor = tensorFromSentence(input_lang, pair[0])\n",
    "    target_tensor = tensorFromSentence(output_lang, pair[1])\n",
    "    return (input_tensor, target_tensor)\n",
    "\n",
    "\n",
    "def pad_sequences(data_batch):\n",
    "    pl_batch, en_batch = [], []\n",
    "    for pl_sentence, en_sentence in data_batch:\n",
    "        pl_batch += [pl_sentence]\n",
    "        en_batch += [en_sentence]\n",
    "    pl_batch = pad_sequence(pl_batch, padding_value=PAD_token, batch_first=True)\n",
    "    en_batch = pad_sequence(en_batch, padding_value=PAD_token, batch_first=True)\n",
    "    return pl_batch, en_batch\n",
    "\n",
    "def prepare_dataset(batch_size):\n",
    "    rng = np.random.RandomState(567)\n",
    "    indices = np.arange(len(pairs))\n",
    "    rng.shuffle(indices)\n",
    "    train_indices = indices[:int(len(pairs) * 0.8)]\n",
    "    test_indices = indices[int(len(pairs) * 0.8):]\n",
    "    train_pairs = list(pairs[idx] for idx in train_indices)\n",
    "    test_pairs = list(pairs[idx] for idx in test_indices)\n",
    "    tensor_train_pairs = [tensorsFromPair(pairs[idx]) for idx in train_indices]\n",
    "    tensor_test_pairs = [tensorsFromPair(pairs[idx]) for idx in test_indices]\n",
    "\n",
    "    train_loader = DataLoader(tensor_train_pairs, batch_size=batch_size,\n",
    "                            shuffle=True, collate_fn=pad_sequences)\n",
    "    test_loader = DataLoader(tensor_test_pairs, batch_size=batch_size,\n",
    "                            shuffle=True, collate_fn=pad_sequences)\n",
    "    return train_pairs, test_pairs, train_loader, test_loader"
   ]
  },
  {
   "cell_type": "markdown",
   "metadata": {
    "id": "cf844auxd7Km"
   },
   "source": [
    "# Model Seq2Seq\n",
    "\n",
    "\n",
    "\n",
    "W tym celu wykorzystany rekurencyjne sieci neuronowe (RNN-y), które poznaliśmy na poprzednich zajęciach. Konkretniej zbudujemy za ich pomocą model Sequence to Sequence (Seq2Seq), w której wykorzystamy dwie sieci rekurencyjne:\n",
    "1. Enkoder, który będzie przyjmował kolejno słowa ze zdania wejściowego i kompresował informacje o nich w swoim stanie ukrytym.\n",
    "2. Dekoder, który będzie generował kolejne słowa w języku docelowym. \n",
    "\n",
    "![seq2seq](https://docs.chainer.org/en/stable/_images/seq2seq.png)\n",
    "Źródło: https://docs.chainer.org/"
   ]
  },
  {
   "cell_type": "markdown",
   "metadata": {
    "id": "dxaO-7_LtPUk"
   },
   "source": [
    "## Funkcje pomocnicze i ewaluacyjne"
   ]
  },
  {
   "cell_type": "code",
   "execution_count": null,
   "metadata": {
    "id": "04Zm6_MRd7Kq"
   },
   "outputs": [],
   "source": [
    "def predict(encoder, decoder, inputs, targets=None, max_len=MAX_LENGTH):\n",
    "    batch_size = inputs.size(0)\n",
    "\n",
    "    encoder_outputs, encoder_hidden = encoder(inputs)\n",
    "\n",
    "    decoder_input = torch.tensor([[SOS_token]] * batch_size, device=device)\n",
    "    decoder_hidden = encoder_hidden\n",
    "    decoder_output, decoder_attention = decoder(\n",
    "        decoder_input,\n",
    "        decoder_hidden,\n",
    "        targets=targets,\n",
    "        max_len=max_len,\n",
    "        encoder_outputs=encoder_outputs)\n",
    "    return decoder_output, decoder_attention\n",
    "\n",
    "def translate(encoder, decoder, sentence):\n",
    "    inputs = tensorFromSentence(input_lang, sentence).unsqueeze(0).cuda()\n",
    "    decoder_output, decoder_attention = predict(encoder, decoder, inputs)\n",
    "\n",
    "    decoded_words = []\n",
    "    for word in decoder_output[0]:\n",
    "        top_word = word.argmax(-1).item()\n",
    "        decoded_words.append(output_lang.index2word[top_word])\n",
    "        if top_word == EOS_token:\n",
    "            break\n",
    "\n",
    "    if decoder_attention is not None:\n",
    "        # [out_words, in_words]\n",
    "        att = decoder_attention.cpu().detach().numpy()\n",
    "        att = att[0, :len(decoded_words), :]\n",
    "        fig, ax = plt.subplots()\n",
    "\n",
    "        ax.imshow(att)\n",
    "        ax.set_xticklabels([''] + sentence.split(' ') +\n",
    "                        ['EOS'], rotation=90)\n",
    "        ax.set_yticklabels([''] + decoded_words)\n",
    "\n",
    "\n",
    "        ax.xaxis.set_major_locator(ticker.MultipleLocator(1))\n",
    "        ax.yaxis.set_major_locator(ticker.MultipleLocator(1))\n",
    "\n",
    "        plt.show()\n",
    "\n",
    "    return decoded_words\n",
    "        \n",
    "def translate_randomly(encoder, decoder, pairs, n=10):\n",
    "    for i in range(n):\n",
    "        pair = random.choice(pairs)\n",
    "        print('>', pair[0])\n",
    "        print('=', pair[1])\n",
    "        output_words = translate(encoder, decoder, pair[0])\n",
    "        output_sentence = ' '.join(output_words)\n",
    "        print('<', output_sentence)\n",
    "        print('')"
   ]
  },
  {
   "cell_type": "markdown",
   "metadata": {
    "id": "hKEO71h8_mvq"
   },
   "source": [
    "## Pętla trenująca"
   ]
  },
  {
   "cell_type": "code",
   "execution_count": null,
   "metadata": {
    "id": "v2hJ24pEd7Kq"
   },
   "outputs": [],
   "source": [
    "def train(encoder, decoder, lr=0.01, batch_size=256, teacher_forcing_ratio=0.5, epochs_num=100):\n",
    "\n",
    "    # Prepare dataset, loss functions, optimizer\n",
    "    train_pairs, test_pairs, train_loader, test_loader = prepare_dataset(batch_size)\n",
    "\n",
    "    criterion = nn.CrossEntropyLoss(ignore_index=PAD_token)\n",
    "\n",
    "    encoder_optimizer = optim.Adam(encoder.parameters(), lr=lr)\n",
    "    decoder_optimizer = optim.Adam(decoder.parameters(), lr=lr)\n",
    "\n",
    "    encoder.cuda()\n",
    "    decoder.cuda()\n",
    "\n",
    "    for epoch in range(epochs_num + 1):\n",
    "\n",
    "        # Training\n",
    "        epoch_train_loss = 0.\n",
    "        for in_batch, out_batch in train_loader:\n",
    "            in_batch, out_batch = in_batch.cuda(), out_batch.cuda()\n",
    "\n",
    "            encoder_optimizer.zero_grad()\n",
    "            decoder_optimizer.zero_grad()\n",
    "        \n",
    "            teacher_inputs = out_batch if random.random() < teacher_forcing_ratio else None\n",
    "        \n",
    "            decoder_output, decoded_attention = predict(\n",
    "                encoder, decoder, in_batch,\n",
    "                targets=teacher_inputs,\n",
    "                max_len=out_batch.size(1)\n",
    "            )\n",
    "        \n",
    "            loss = criterion(decoder_output.transpose(1, 2), out_batch)\n",
    "            loss.backward()\n",
    "        \n",
    "            encoder_optimizer.step()\n",
    "            decoder_optimizer.step()\n",
    "\n",
    "            epoch_train_loss += loss.item()\n",
    "\n",
    "        # Evaluation\n",
    "        if epoch % 25 == 0:\n",
    "            with torch.no_grad():\n",
    "                print(\"=\" * 25, \"Translation test\", \"=\" * 25)\n",
    "                translate_randomly(encoder, decoder, test_pairs, n=5)\n",
    "\n",
    "        mean_train_loss = epoch_train_loss / len(train_loader)\n",
    "        print(f\"Epoch: {epoch}. Train loss: {mean_train_loss}\")"
   ]
  },
  {
   "cell_type": "markdown",
   "metadata": {
    "id": "MkvoS5hCjgI2"
   },
   "source": [
    "# Zadanie 1 - Dekoder w Seq2Seq (4 pkt.)\n",
    "\n",
    "W tym zadaniu należy zaimplementować dekoder z modelu Seq2Seq. Kod enkodera jest dostępny poniżej i ma Państwu ułatwić odpowiednie zaimplementowanie dekodera.\n",
    "\n",
    "\n",
    "Dekoder otrzymuje na wejściu następujące argumenty:\n",
    "- `input` - tensor o wymiarach `[batch_size, 1]`  zawierający tokeny SOS oznaczające początek zdania (<BOS> na obrazku).\n",
    "- `targets` - `None` albo `torch.tensor` o wymiarach `[batch_size, seq_len]` zawierający indeksy słów w języku docelowym. Jeżeli jest podany to należy zaimplementować teacher forcing na jego podstawie.\n",
    "- `max_len` - Długość sekwencji, którą mamy zwrócić.\n",
    "- `encoder_outputs` - w tym zadaniu ten argument należy zignorować, przyda się dopiero w kolejnym zadaniu.\n",
    "\n",
    "Dekoder ma zwrócić dwie zmienne:\n",
    "- `output` - tensor o wymiarach `[batch_size, seq_len, vocab_size]` reprezentujące logity, które po zaaplikowaniu softmaksa (co będzie zrobione już poza dekoderem) będą reprezentowały prawdopodobieństwa słów przewidzianych przez nasz dekoder.\n",
    "- `attention_weights` - w tym zadaniu należy zawsze zwracać `None`.\n",
    "\n",
    "\n",
    "**HINT 1**: Warto pamiętać o argumencie `batch_first=True` przy definiowaniu RNN-a.\n",
    "\n",
    "**HINT 2**: W enkoderze mogliśmy użyć jednego wywołania klasy LSTM, jako że od razu mieliśmy wszystkie wejścia (słowa języka wejściowego). W przypadku dekodera nie jest to możliwe, jako że wejściem w kroku `t+1` jest wyjście z kroku `t`. Oznacza to że prawdopodobnie potrzebna będzie pętla `for`."
   ]
  },
  {
   "cell_type": "code",
   "execution_count": null,
   "metadata": {
    "id": "I6FSVbB0d7Kn"
   },
   "outputs": [],
   "source": [
    "class EncoderRNN(nn.Module):\n",
    "    def __init__(self, vocab_size, embedding_size, hidden_size):\n",
    "        super(EncoderRNN, self).__init__()\n",
    "        self.hidden_size = hidden_size\n",
    "\n",
    "        self.embedding = nn.Embedding(vocab_size, embedding_size)\n",
    "        self.lstm = nn.LSTM(embedding_size, hidden_size, batch_first=True)\n",
    "\n",
    "    def forward(self, input):\n",
    "        embedded = self.embedding(input)\n",
    "        output, hidden = self.lstm(embedded)\n",
    "        return output, hidden"
   ]
  },
  {
   "cell_type": "code",
   "execution_count": null,
   "metadata": {
    "id": "MiBbM1IVd7Ko"
   },
   "outputs": [],
   "source": [
    "class DecoderRNN(nn.Module):\n",
    "    def __init__(self, vocab_size, embedding_size, hidden_size):\n",
    "        super(DecoderRNN, self).__init__()\n",
    "        ???\n",
    "\n",
    "    def forward(self, input, hidden, targets=None, max_len=None, encoder_outputs=None):\n",
    "        ???\n",
    "        return output, None"
   ]
  },
  {
   "cell_type": "code",
   "execution_count": null,
   "metadata": {
    "colab": {
     "base_uri": "https://localhost:8080/"
    },
    "id": "q0EZJ74SAKFS",
    "outputId": "8fbc9fd0-4022-4a30-aee6-57c1884ae9cf"
   },
   "outputs": [
    {
     "name": "stdout",
     "output_type": "stream",
     "text": [
      "========================= Translation test =========================\n",
      "> mozemy zrobic to innym razem ?\n",
      "= can we do it another time ?\n",
      "< i is a . EOS\n",
      "\n",
      "> wydaje mi sie ze go znam .\n",
      "= i think i know him .\n",
      "< i is a to . EOS\n",
      "\n",
      "> tom powiedzial mi ze lubi plywac .\n",
      "= tom told me that he likes to swim .\n",
      "< i is a to to . EOS\n",
      "\n",
      "> lubie maslo bardziej niz ser .\n",
      "= i like butter better than cheese .\n",
      "< i is a to to . EOS\n",
      "\n",
      "> zlodziej wlamal sie do domu gdy nas nie bylo .\n",
      "= a thief broke into the house while we were away .\n",
      "< i is a to to the . EOS\n",
      "\n",
      "Epoch: 0. Train loss: 5.0525786271170965\n",
      "Epoch: 1. Train loss: 4.270484547766428\n",
      "Epoch: 2. Train loss: 4.041841128515819\n",
      "Epoch: 3. Train loss: 3.84948664430588\n",
      "Epoch: 4. Train loss: 3.4589100867982894\n",
      "Epoch: 5. Train loss: 3.4652734957044085\n",
      "Epoch: 6. Train loss: 3.244848096181476\n",
      "Epoch: 7. Train loss: 3.1803611857550487\n",
      "Epoch: 8. Train loss: 3.1516595435520958\n",
      "Epoch: 9. Train loss: 2.997663145973569\n",
      "Epoch: 10. Train loss: 2.9174035371295988\n",
      "Epoch: 11. Train loss: 2.857299566268921\n",
      "Epoch: 12. Train loss: 2.757154407955351\n",
      "Epoch: 13. Train loss: 2.7427287678869945\n",
      "Epoch: 14. Train loss: 2.6599914441033015\n",
      "Epoch: 15. Train loss: 2.5683881526901606\n",
      "Epoch: 16. Train loss: 2.564598302046458\n",
      "Epoch: 17. Train loss: 2.599967667034694\n",
      "Epoch: 18. Train loss: 2.452730517538767\n",
      "Epoch: 19. Train loss: 2.4506959536718944\n",
      "Epoch: 20. Train loss: 2.3996905173574175\n",
      "Epoch: 21. Train loss: 2.37099409008783\n",
      "Epoch: 22. Train loss: 2.303890121361566\n",
      "Epoch: 23. Train loss: 2.2469478334699358\n",
      "Epoch: 24. Train loss: 2.239702518970247\n",
      "========================= Translation test =========================\n",
      "> te rzeczy sa bardzo przydatne .\n",
      "= these objects are very useful .\n",
      "< these languages are airtight . EOS\n",
      "\n",
      "> chce zagrac w pilkarzyki .\n",
      "= i want to play foosball .\n",
      "< i remember the french . EOS\n",
      "\n",
      "> sukces zalezy glownie od wysilku .\n",
      "= success depends mostly on effort .\n",
      "< winning houses burned down . EOS\n",
      "\n",
      "> twoja odpowiedz jest poprawna .\n",
      "= your answer is right .\n",
      "< beautiful is ! EOS\n",
      "\n",
      "> obiecuje ze bedziemy sluchaly wszystkiego co powiesz .\n",
      "= i promise that we ll be listening to everything you say .\n",
      "< i m everything that what what happened . EOS\n",
      "\n",
      "Epoch: 25. Train loss: 2.2167425411088124\n",
      "Epoch: 26. Train loss: 2.13766385354693\n",
      "Epoch: 27. Train loss: 2.158070310713753\n",
      "Epoch: 28. Train loss: 2.1590354679122803\n",
      "Epoch: 29. Train loss: 2.096408034127856\n",
      "Epoch: 30. Train loss: 1.907745343352121\n",
      "Epoch: 31. Train loss: 1.8444343852618383\n",
      "Epoch: 32. Train loss: 1.961480268410274\n",
      "Epoch: 33. Train loss: 1.9396090365591503\n",
      "Epoch: 34. Train loss: 1.8956255638410175\n",
      "Epoch: 35. Train loss: 1.8800045970886472\n",
      "Epoch: 36. Train loss: 1.8491953914127652\n",
      "Epoch: 37. Train loss: 1.9250147210227118\n",
      "Epoch: 38. Train loss: 1.7600780507874867\n",
      "Epoch: 39. Train loss: 1.8185718059539795\n",
      "Epoch: 40. Train loss: 1.7547716555141268\n",
      "Epoch: 41. Train loss: 1.6580182455834889\n",
      "Epoch: 42. Train loss: 1.8113307082463825\n",
      "Epoch: 43. Train loss: 1.6720286181994848\n",
      "Epoch: 44. Train loss: 1.7091687771063002\n",
      "Epoch: 45. Train loss: 1.6342656986107902\n",
      "Epoch: 46. Train loss: 1.5962306478666881\n",
      "Epoch: 47. Train loss: 1.620693865749571\n",
      "Epoch: 48. Train loss: 1.5557494191896348\n",
      "Epoch: 49. Train loss: 1.5521022237482525\n",
      "========================= Translation test =========================\n",
      "> tom zepchnal mary ze skraju urwiska .\n",
      "= tom pushed mary off the edge of the cliff .\n",
      "< tom knew mary mary was him . EOS\n",
      "\n",
      "> cos sie stalo w bostonie .\n",
      "= something happened in boston .\n",
      "< it year to come . EOS\n",
      "\n",
      "> wlasnie sie o tym dowiedzielismy .\n",
      "= we just found out about it .\n",
      "< i was curious about something . . EOS\n",
      "\n",
      "> w przyszlym miesiacu bedzie zajety .\n",
      "= he will be very busy next month .\n",
      "< for your school he soon . EOS\n",
      "\n",
      "> nienawidze patrzec na to jak marny jestes .\n",
      "= i hate to see you so miserable .\n",
      "< i ll call i ll i feel . EOS\n",
      "\n",
      "Epoch: 50. Train loss: 1.4403640618399969\n",
      "Epoch: 51. Train loss: 1.5485502647029028\n",
      "Epoch: 52. Train loss: 1.559280041191313\n",
      "Epoch: 53. Train loss: 1.5142877187047685\n",
      "Epoch: 54. Train loss: 1.5264360180922918\n",
      "Epoch: 55. Train loss: 1.4399829308191936\n",
      "Epoch: 56. Train loss: 1.4137094091801417\n",
      "Epoch: 57. Train loss: 1.3702502132408203\n",
      "Epoch: 58. Train loss: 1.3778071214282324\n",
      "Epoch: 59. Train loss: 1.4344387991087777\n",
      "Epoch: 60. Train loss: 1.3830143610636394\n",
      "Epoch: 61. Train loss: 1.4532270772116525\n",
      "Epoch: 62. Train loss: 1.3338710902229187\n",
      "Epoch: 63. Train loss: 1.3684550869086431\n",
      "Epoch: 64. Train loss: 1.2984270969080547\n",
      "Epoch: 65. Train loss: 1.3503316659775992\n",
      "Epoch: 66. Train loss: 1.3736241521343353\n",
      "Epoch: 67. Train loss: 1.3349506296808757\n",
      "Epoch: 68. Train loss: 1.362617026718836\n",
      "Epoch: 69. Train loss: 1.2918371894056835\n",
      "Epoch: 70. Train loss: 1.3971838104346441\n",
      "Epoch: 71. Train loss: 1.271851002223908\n",
      "Epoch: 72. Train loss: 1.2128460492406572\n",
      "Epoch: 73. Train loss: 1.2685086150017997\n",
      "Epoch: 74. Train loss: 1.2881113725995261\n",
      "========================= Translation test =========================\n",
      "> wiedzialem ze to nie jest tom .\n",
      "= i knew he wasn t tom .\n",
      "< i tom i tom tom that . EOS\n",
      "\n",
      "> pokazal mi rekopis swojej nowej sztuki .\n",
      "= he showed me the manuscript of his new play .\n",
      "< give me money a drink nor balance . EOS\n",
      "\n",
      "> samolot toma rozbil sie .\n",
      "= tom s plane crashed .\n",
      "< it mountain . EOS\n",
      "\n",
      "> ostrzyl noz .\n",
      "= he was sharpening a knife .\n",
      "< data watches . EOS\n",
      "\n",
      "> malo wazne czy wiadomosc jest prawdziwa czy nie .\n",
      "= whether the news is true or false makes little difference .\n",
      "< you obviously have to do that and can to or to . . EOS\n",
      "\n",
      "Epoch: 75. Train loss: 1.3015432594314453\n",
      "Epoch: 76. Train loss: 1.2565598000609686\n",
      "Epoch: 77. Train loss: 1.2154396829150973\n",
      "Epoch: 78. Train loss: 1.1727573327601901\n",
      "Epoch: 79. Train loss: 1.1576136095183236\n",
      "Epoch: 80. Train loss: 1.1463397613593511\n",
      "Epoch: 81. Train loss: 1.1969127787484064\n",
      "Epoch: 82. Train loss: 1.2152779509150793\n",
      "Epoch: 83. Train loss: 1.1255033068240634\n",
      "Epoch: 84. Train loss: 1.1532896302995228\n",
      "Epoch: 85. Train loss: 1.2002520083434998\n",
      "Epoch: 86. Train loss: 1.2790881726476881\n",
      "Epoch: 87. Train loss: 1.2682391357800318\n",
      "Epoch: 88. Train loss: 1.1532461501303173\n",
      "Epoch: 89. Train loss: 1.2133051298913502\n",
      "Epoch: 90. Train loss: 1.1478047394563282\n",
      "Epoch: 91. Train loss: 1.0580729827994393\n",
      "Epoch: 92. Train loss: 1.1171561635675884\n",
      "Epoch: 93. Train loss: 1.0272167760228355\n",
      "Epoch: 94. Train loss: 1.086746915701836\n",
      "Epoch: 95. Train loss: 1.0977814235384502\n",
      "Epoch: 96. Train loss: 1.1376123049902538\n",
      "Epoch: 97. Train loss: 1.2208836121218545\n",
      "Epoch: 98. Train loss: 1.0963225762049358\n",
      "Epoch: 99. Train loss: 1.110025949421383\n",
      "========================= Translation test =========================\n",
      "> myslisz ze kiedy tom tu dotrze ?\n",
      "= when do you think tom is going to get here ?\n",
      "< do you think tom is planning to stay for ? EOS\n",
      "\n",
      "> tom powiedzial mi ze nie moze chodzic .\n",
      "= tom told me he couldn t walk .\n",
      "< tom told me he didn t do all . EOS\n",
      "\n",
      "> pociag byl opozniony poniewaz byl wypadek .\n",
      "= the train was delayed because of an accident .\n",
      "< the train was was sick was sick . EOS\n",
      "\n",
      "> dzieki za podwozke do domu .\n",
      "= thanks for driving me home .\n",
      "< in the home home . EOS\n",
      "\n",
      "> jestem nauczycielem matematyki w liceum .\n",
      "= i m a high school math teacher .\n",
      "< i m an tennis player . EOS\n",
      "\n",
      "Epoch: 100. Train loss: 1.1544846007748255\n"
     ]
    }
   ],
   "source": [
    "hidden_size = 128\n",
    "embedding_size = 256\n",
    "encoder = EncoderRNN(input_lang.n_words, embedding_size, hidden_size).to(device)\n",
    "decoder = DecoderRNN(output_lang.n_words, embedding_size, hidden_size).to(device)\n",
    "\n",
    "train(encoder, decoder, lr=0.005, epochs_num=100)"
   ]
  },
  {
   "cell_type": "markdown",
   "metadata": {
    "id": "crrwsvmgGHix"
   },
   "source": [
    "# Zadanie 2 - Atencja w RNN-ach (3 pkt.)\n",
    "\n",
    "![seq2seq z dekoderem](https://www.researchgate.net/profile/Chandan_Reddy6/publication/329464533/figure/fig3/AS:701043021197314@1544153089772/An-attention-based-seq2seq-model.ppm)\n",
    "\n",
    "Źródło: https://github.com/google/seq2seq\n",
    "\n",
    "W tym zadaniu należy napisać kod nowego dekodera, który ma działać podobnie jak dekoder w poprzednim zadaniu, ale jednocześnie ma wykorzystywać mechanizm atencji.\n",
    "\n",
    "W normalnym dekoderze, w kroku `t` wejściem do komórki LSTM-a (pomijamy tutaj przekazywanie stanu ukrytego) była wyłącznie zembeddowana reprezentacja $\\bar{y}_t$. W dekoderze z atencją na wejściu podawna będzie konkatenacja tego wektora oraz specjalnego wektora $z_t$ stworzonego na podstawie wyjść z enkodera: $\\tilde{h}_t = [\\bar{y}_t, z_t]$. \n",
    "\n",
    "Wektor $z_t$ jest pozyskiwany za pomocą mechanizmu atencji. Intuicyjnie chcielibyśmy w nim zebrać informacje z enkodera, które będą najistotniejsze przy dekodowaniu aktualnego słowa. Przyjmijmy, że mamy funkcję alignmentu $a(h, e)$, która jest nam w stanie powiedzieć jak bardzo podobne do siebie są stan ukryty dekodera $h$ oraz reprezentacja enkodera dla słowa $e$.\n",
    "\n",
    "Wtedy \n",
    "\n",
    "$$\n",
    "\\begin{align}\n",
    "w_i &= \\frac{ \\exp(a(h, e_i)) }{\\sum_{j} \\exp(a(h, e_j))} \\\\\n",
    "z_t &= \\sum_i e_i \\cdot w_i\n",
    "\\end{align}\n",
    "$$\n",
    "\n",
    "\n",
    "W naszym wypadku funkcja alignmentu $a(h, e)$ ma być siecią neuronową z dwoma warstwami o kolejnych wymiarach: `[2 * hidden_size, hidden_size, 1]` i aktywacją tanh po pierwszej warstwie.\n",
    "\n",
    "Argumenty wejściowe i wyjściowe z dekodera są takie same jak w poprzednim z zadaniu z wyjątkiem:\n",
    "- Tym razem na wejściu otrzymujemy tensor `encoder_outputs` o wymiarach `[batch_size, encoder_seq_len, hidden_size]`. To są reprezentacje $e_i$, które należy wykorzystać w mechanizmie atencji.\n",
    "- Tym razem na wyjściu `attention_weights` powinno być tensorem o wymiarach `[batch_size, decoder_seq_len, encoder_seq_len]` zawierającym wagi $w_i$. **HINT:** wartości tego tensora powinny się sumować do jedynki na ostatnim wymiarze."
   ]
  },
  {
   "cell_type": "code",
   "execution_count": null,
   "metadata": {
    "id": "5bETuU9Hd7Kp"
   },
   "outputs": [],
   "source": [
    "class AttnDecoderRNN(nn.Module):\n",
    "    def __init__(self, vocab_size, embedding_size, hidden_size):\n",
    "        super(AttnDecoderRNN, self).__init__()\n",
    "        ???\n",
    "\n",
    "    def forward(self, input, hidden, targets=None, max_len=None, encoder_outputs=None):\n",
    "        ???\n",
    "        return output, seq_att_weights"
   ]
  },
  {
   "cell_type": "code",
   "execution_count": null,
   "metadata": {
    "colab": {
     "base_uri": "https://localhost:8080/",
     "height": 1000
    },
    "id": "mipeLXX9fx_7",
    "outputId": "9a7fb3b0-bda6-4b81-d8a8-86a76d679a2c"
   },
   "outputs": [
    {
     "name": "stdout",
     "output_type": "stream",
     "text": [
      "========================= Translation test =========================\n",
      "> ile kosztowaly te okulary przeciwsloneczne ?\n",
      "= how much did these sunglasses cost ?\n"
     ]
    },
    {
     "data": {
      "image/png": "[encoded data removed]",
      "text/plain": [
       "<Figure size 432x288 with 1 Axes>"
      ]
     },
     "metadata": {
      "needs_background": "light",
      "tags": []
     },
     "output_type": "display_data"
    },
    {
     "name": "stdout",
     "output_type": "stream",
     "text": [
      "< i s t you you to . . EOS\n",
      "\n",
      "> miales okazje porozmawiac z tomem ?\n",
      "= did you have a chance to talk to tom ?\n"
     ]
    },
    {
     "data": {
      "image/png": "[encoded data removed]",
      "text/plain": [
       "<Figure size 432x288 with 1 Axes>"
      ]
     },
     "metadata": {
      "needs_background": "light",
      "tags": []
     },
     "output_type": "display_data"
    },
    {
     "name": "stdout",
     "output_type": "stream",
     "text": [
      "< i s t you you to . . EOS\n",
      "\n",
      "> tom nie wspomnial kogo spotkal .\n",
      "= tom didn t mention who he d met .\n"
     ]
    },
    {
     "data": {
      "image/png": "[encoded data removed]",
      "text/plain": [
       "<Figure size 432x288 with 1 Axes>"
      ]
     },
     "metadata": {
      "needs_background": "light",
      "tags": []
     },
     "output_type": "display_data"
    },
    {
     "name": "stdout",
     "output_type": "stream",
     "text": [
      "< i s t you to to . EOS\n",
      "\n",
      "> mozemy na ciebie liczyc ?\n",
      "= can we count on you ?\n"
     ]
    },
    {
     "data": {
      "image/png": "[encoded data removed]",
      "text/plain": [
       "<Figure size 432x288 with 1 Axes>"
      ]
     },
     "metadata": {
      "needs_background": "light",
      "tags": []
     },
     "output_type": "display_data"
    },
    {
     "name": "stdout",
     "output_type": "stream",
     "text": [
      "< i s t you to . . EOS\n",
      "\n",
      "> mysle ze nie powinnismy ufac tomowi .\n",
      "= i don t think we should trust tom .\n"
     ]
    },
    {
     "data": {
      "image/png": "[encoded data removed]",
      "text/plain": [
       "<Figure size 432x288 with 1 Axes>"
      ]
     },
     "metadata": {
      "needs_background": "light",
      "tags": []
     },
     "output_type": "display_data"
    },
    {
     "name": "stdout",
     "output_type": "stream",
     "text": [
      "< i s t you you to . . EOS\n",
      "\n",
      "Epoch: 0. Train loss: 5.129127396477593\n",
      "Epoch: 1. Train loss: 4.417040122879876\n",
      "Epoch: 2. Train loss: 4.067995224680219\n",
      "Epoch: 3. Train loss: 3.740036618141901\n",
      "Epoch: 4. Train loss: 3.371396651343694\n",
      "Epoch: 5. Train loss: 3.0900035509987482\n",
      "Epoch: 6. Train loss: 2.9499138234153626\n",
      "Epoch: 7. Train loss: 2.697976583526248\n",
      "Epoch: 8. Train loss: 2.490465729955643\n",
      "Epoch: 9. Train loss: 2.239030700827402\n",
      "Epoch: 10. Train loss: 2.0691995469350664\n",
      "Epoch: 11. Train loss: 1.9558707286441137\n",
      "Epoch: 12. Train loss: 1.759294042511592\n",
      "Epoch: 13. Train loss: 1.6562249537498233\n",
      "Epoch: 14. Train loss: 1.5519587605718583\n",
      "Epoch: 15. Train loss: 1.392688279587125\n",
      "Epoch: 16. Train loss: 1.29055997823912\n",
      "Epoch: 17. Train loss: 1.2594804281280154\n",
      "Epoch: 18. Train loss: 1.1016963043856243\n",
      "Epoch: 19. Train loss: 1.028177346028979\n",
      "Epoch: 20. Train loss: 0.9811902954464867\n",
      "Epoch: 21. Train loss: 0.9344692864115276\n",
      "Epoch: 22. Train loss: 0.8894587939693814\n",
      "Epoch: 23. Train loss: 0.8317769072831623\n",
      "Epoch: 24. Train loss: 0.7743985437684588\n",
      "========================= Translation test =========================\n",
      "> caly czas mdleje .\n",
      "= she faints all the time .\n"
     ]
    },
    {
     "data": {
      "image/png": "[encoded data removed]",
      "text/plain": [
       "<Figure size 432x288 with 1 Axes>"
      ]
     },
     "metadata": {
      "needs_background": "light",
      "tags": []
     },
     "output_type": "display_data"
    },
    {
     "name": "stdout",
     "output_type": "stream",
     "text": [
      "< the whole day came first . EOS\n",
      "\n",
      "> tom bardzo teskni za mary .\n",
      "= tom misses mary a lot .\n"
     ]
    },
    {
     "data": {
      "image/png": "[encoded data removed]",
      "text/plain": [
       "<Figure size 432x288 with 1 Axes>"
      ]
     },
     "metadata": {
      "needs_background": "light",
      "tags": []
     },
     "output_type": "display_data"
    },
    {
     "name": "stdout",
     "output_type": "stream",
     "text": [
      "< tom misses mary mary . EOS\n",
      "\n",
      "> banany sa zolte .\n",
      "= bananas are yellow .\n"
     ]
    },
    {
     "data": {
      "image/png": "[encoded data removed]",
      "text/plain": [
       "<Figure size 432x288 with 1 Axes>"
      ]
     },
     "metadata": {
      "needs_background": "light",
      "tags": []
     },
     "output_type": "display_data"
    },
    {
     "name": "stdout",
     "output_type": "stream",
     "text": [
      "< japan is yellow . EOS\n",
      "\n",
      "> ile wydales na ostatnie wakacje ?\n",
      "= how much money did you spend on your last holiday ?\n"
     ]
    },
    {
     "data": {
      "image/png": "[encoded data removed]",
      "text/plain": [
       "<Figure size 432x288 with 1 Axes>"
      ]
     },
     "metadata": {
      "needs_background": "light",
      "tags": []
     },
     "output_type": "display_data"
    },
    {
     "name": "stdout",
     "output_type": "stream",
     "text": [
      "< how many lot of spend spend on your summer ? EOS\n",
      "\n",
      "> powiedz nam wiecej .\n",
      "= tell us more .\n"
     ]
    },
    {
     "data": {
      "image/png": "[encoded data removed]",
      "text/plain": [
       "<Figure size 432x288 with 1 Axes>"
      ]
     },
     "metadata": {
      "needs_background": "light",
      "tags": []
     },
     "output_type": "display_data"
    },
    {
     "name": "stdout",
     "output_type": "stream",
     "text": [
      "< you listening to . EOS\n",
      "\n",
      "Epoch: 25. Train loss: 0.7960740959360486\n",
      "Epoch: 26. Train loss: 0.7366204600012491\n",
      "Epoch: 27. Train loss: 0.6945200295202316\n",
      "Epoch: 28. Train loss: 0.6270041584022461\n",
      "Epoch: 29. Train loss: 0.6332342877747521\n",
      "Epoch: 30. Train loss: 0.5983022836938737\n",
      "Epoch: 31. Train loss: 0.6263116371063959\n",
      "Epoch: 32. Train loss: 0.610757610627583\n",
      "Epoch: 33. Train loss: 0.4948881928409849\n",
      "Epoch: 34. Train loss: 0.5170875603244418\n",
      "Epoch: 35. Train loss: 0.5207000001082345\n",
      "Epoch: 36. Train loss: 0.49370619418129086\n",
      "Epoch: 37. Train loss: 0.4657332802575732\n",
      "Epoch: 38. Train loss: 0.46608302872332313\n",
      "Epoch: 39. Train loss: 0.46086727780482123\n",
      "Epoch: 40. Train loss: 0.44414703737175654\n",
      "Epoch: 41. Train loss: 0.4218870464061934\n",
      "Epoch: 42. Train loss: 0.37898973659390495\n",
      "Epoch: 43. Train loss: 0.3888667806509941\n",
      "Epoch: 44. Train loss: 0.38294102913803524\n",
      "Epoch: 45. Train loss: 0.3980348799673338\n",
      "Epoch: 46. Train loss: 0.4012356386298225\n",
      "Epoch: 47. Train loss: 0.3681437668819276\n",
      "Epoch: 48. Train loss: 0.3840611096885469\n",
      "Epoch: 49. Train loss: 0.3790311198385935\n",
      "========================= Translation test =========================\n",
      "> dlaczego to sie stalo ?\n",
      "= why did this happen ?\n"
     ]
    },
    {
     "data": {
      "image/png": "[encoded data removed]",
      "text/plain": [
       "<Figure size 432x288 with 1 Axes>"
      ]
     },
     "metadata": {
      "needs_background": "light",
      "tags": []
     },
     "output_type": "display_data"
    },
    {
     "name": "stdout",
     "output_type": "stream",
     "text": [
      "< did this happen ? EOS\n",
      "\n",
      "> mysle ze bedziesz zalowac jesli sprzedasz gitare ojca .\n",
      "= i think you ll regret it if you sell your father s guitar .\n"
     ]
    },
    {
     "data": {
      "image/png": "[encoded data removed]",
      "text/plain": [
       "<Figure size 432x288 with 1 Axes>"
      ]
     },
     "metadata": {
      "needs_background": "light",
      "tags": []
     },
     "output_type": "display_data"
    },
    {
     "name": "stdout",
     "output_type": "stream",
     "text": [
      "< i think you ll ll ll explaining if you saw the other . EOS\n",
      "\n",
      "> bylem tu pierwszy .\n",
      "= i was here first .\n"
     ]
    },
    {
     "data": {
      "image/png": "[encoded data removed]",
      "text/plain": [
       "<Figure size 432x288 with 1 Axes>"
      ]
     },
     "metadata": {
      "needs_background": "light",
      "tags": []
     },
     "output_type": "display_data"
    },
    {
     "name": "stdout",
     "output_type": "stream",
     "text": [
      "< i was the first one day . EOS\n",
      "\n",
      "> jestes przewrazliwiony .\n",
      "= you re overemotional .\n"
     ]
    },
    {
     "data": {
      "image/png": "[encoded data removed]",
      "text/plain": [
       "<Figure size 432x288 with 1 Axes>"
      ]
     },
     "metadata": {
      "needs_background": "light",
      "tags": []
     },
     "output_type": "display_data"
    },
    {
     "name": "stdout",
     "output_type": "stream",
     "text": [
      "< come you land . EOS\n",
      "\n",
      "> cale miasto bylo pozbawione pradu .\n",
      "= the entire city was without electricity .\n"
     ]
    },
    {
     "data": {
      "image/png": "[encoded data removed]",
      "text/plain": [
       "<Figure size 432x288 with 1 Axes>"
      ]
     },
     "metadata": {
      "needs_background": "light",
      "tags": []
     },
     "output_type": "display_data"
    },
    {
     "name": "stdout",
     "output_type": "stream",
     "text": [
      "< the whole city was to to . EOS\n",
      "\n",
      "Epoch: 50. Train loss: 0.3586810856821045\n",
      "Epoch: 51. Train loss: 0.3302999037125754\n",
      "Epoch: 52. Train loss: 0.34242064387552323\n",
      "Epoch: 53. Train loss: 0.33951414979639505\n",
      "Epoch: 54. Train loss: 0.3275917816966299\n",
      "Epoch: 55. Train loss: 0.32124757542023585\n",
      "Epoch: 56. Train loss: 0.3450364720017191\n",
      "Epoch: 57. Train loss: 0.3144159856296721\n",
      "Epoch: 58. Train loss: 0.3265791879523368\n",
      "Epoch: 59. Train loss: 0.3228995926559918\n",
      "Epoch: 60. Train loss: 0.2890176534179657\n",
      "Epoch: 61. Train loss: 0.25255037749570514\n",
      "Epoch: 62. Train loss: 0.27149584238964414\n",
      "Epoch: 63. Train loss: 0.2879552694540175\n",
      "Epoch: 64. Train loss: 0.2750516491276877\n",
      "Epoch: 65. Train loss: 0.26590988335628357\n",
      "Epoch: 66. Train loss: 0.2809640257841065\n",
      "Epoch: 67. Train loss: 0.27919328472917043\n",
      "Epoch: 68. Train loss: 0.3091784244964993\n",
      "Epoch: 69. Train loss: 0.28395934875995393\n",
      "Epoch: 70. Train loss: 0.28513347546732615\n",
      "Epoch: 71. Train loss: 0.25877918929807725\n",
      "Epoch: 72. Train loss: 0.25769796896548497\n",
      "Epoch: 73. Train loss: 0.2572441521499838\n",
      "Epoch: 74. Train loss: 0.2695919496435968\n",
      "========================= Translation test =========================\n",
      "> uwielbiam puzzle .\n",
      "= i love puzzles .\n"
     ]
    },
    {
     "data": {
      "image/png": "[encoded data removed]",
      "text/plain": [
       "<Figure size 432x288 with 1 Axes>"
      ]
     },
     "metadata": {
      "needs_background": "light",
      "tags": []
     },
     "output_type": "display_data"
    },
    {
     "name": "stdout",
     "output_type": "stream",
     "text": [
      "< i love singing . EOS\n",
      "\n",
      "> wyglada na to ze rzad nie wie co robic .\n",
      "= it sounds as if the government doesn t know what to do .\n"
     ]
    },
    {
     "data": {
      "image/png": "[encoded data removed]",
      "text/plain": [
       "<Figure size 432x288 with 1 Axes>"
      ]
     },
     "metadata": {
      "needs_background": "light",
      "tags": []
     },
     "output_type": "display_data"
    },
    {
     "name": "stdout",
     "output_type": "stream",
     "text": [
      "< it looks like to be just seeing what to . EOS\n",
      "\n",
      "> bardzo potrzebuje twojej pomocy .\n",
      "= i am badly in need of your help .\n"
     ]
    },
    {
     "data": {
      "image/png": "[encoded data removed]",
      "text/plain": [
       "<Figure size 432x288 with 1 Axes>"
      ]
     },
     "metadata": {
      "needs_background": "light",
      "tags": []
     },
     "output_type": "display_data"
    },
    {
     "name": "stdout",
     "output_type": "stream",
     "text": [
      "< i need to help help . EOS\n",
      "\n",
      "> badz pomocny .\n",
      "= be supportive .\n"
     ]
    },
    {
     "data": {
      "image/png": "[encoded data removed]",
      "text/plain": [
       "<Figure size 432x288 with 1 Axes>"
      ]
     },
     "metadata": {
      "needs_background": "light",
      "tags": []
     },
     "output_type": "display_data"
    },
    {
     "name": "stdout",
     "output_type": "stream",
     "text": [
      "< let . EOS\n",
      "\n",
      "> nie jestes zajety prawda ?\n",
      "= you re not busy are you ?\n"
     ]
    },
    {
     "data": {
      "image/png": "[encoded data removed]",
      "text/plain": [
       "<Figure size 432x288 with 1 Axes>"
      ]
     },
     "metadata": {
      "needs_background": "light",
      "tags": []
     },
     "output_type": "display_data"
    },
    {
     "name": "stdout",
     "output_type": "stream",
     "text": [
      "< you aren t busy if you ? EOS\n",
      "\n",
      "Epoch: 75. Train loss: 0.2965509183113537\n",
      "Epoch: 76. Train loss: 0.30298612148515763\n",
      "Epoch: 77. Train loss: 0.2983297559003981\n",
      "Epoch: 78. Train loss: 0.28545484762816203\n",
      "Epoch: 79. Train loss: 0.30102824940094874\n",
      "Epoch: 80. Train loss: 0.2941159042455847\n",
      "Epoch: 81. Train loss: 0.2731519868922612\n",
      "Epoch: 82. Train loss: 0.2638633268929663\n",
      "Epoch: 83. Train loss: 0.26262672748121\n",
      "Epoch: 84. Train loss: 0.2386903582466027\n",
      "Epoch: 85. Train loss: 0.2569182279800612\n",
      "Epoch: 86. Train loss: 0.288592871337656\n",
      "Epoch: 87. Train loss: 0.28213866250146\n",
      "Epoch: 88. Train loss: 0.2618889254591768\n",
      "Epoch: 89. Train loss: 0.28335689723728197\n",
      "Epoch: 90. Train loss: 0.2581216372431271\n",
      "Epoch: 91. Train loss: 0.24085348022599068\n",
      "Epoch: 92. Train loss: 0.2399598350009275\n",
      "Epoch: 93. Train loss: 0.2256533789137999\n",
      "Epoch: 94. Train loss: 0.2246735885975853\n",
      "Epoch: 95. Train loss: 0.22338049178795208\n",
      "Epoch: 96. Train loss: 0.258942546293376\n",
      "Epoch: 97. Train loss: 0.23836433538605298\n",
      "Epoch: 98. Train loss: 0.25232617149040815\n",
      "Epoch: 99. Train loss: 0.23937404812091873\n",
      "========================= Translation test =========================\n",
      "> mam kiepska pamiec do imion ale nigdy nie zapominam twarzy .\n",
      "= i m really bad with names but i never forget a face .\n"
     ]
    },
    {
     "data": {
      "image/png": "[encoded data removed]",
      "text/plain": [
       "<Figure size 432x288 with 1 Axes>"
      ]
     },
     "metadata": {
      "needs_background": "light",
      "tags": []
     },
     "output_type": "display_data"
    },
    {
     "name": "stdout",
     "output_type": "stream",
     "text": [
      "< i have is on writing to head out of their children never joins in . EOS\n",
      "\n",
      "> dotknij tego .\n",
      "= touch it .\n"
     ]
    },
    {
     "data": {
      "image/png": "[encoded data removed]",
      "text/plain": [
       "<Figure size 432x288 with 1 Axes>"
      ]
     },
     "metadata": {
      "needs_background": "light",
      "tags": []
     },
     "output_type": "display_data"
    },
    {
     "name": "stdout",
     "output_type": "stream",
     "text": [
      "< yesterday . EOS\n",
      "\n",
      "> czego chca ?\n",
      "= what do they want ?\n"
     ]
    },
    {
     "data": {
      "image/png": "[encoded data removed]",
      "text/plain": [
       "<Figure size 432x288 with 1 Axes>"
      ]
     },
     "metadata": {
      "needs_background": "light",
      "tags": []
     },
     "output_type": "display_data"
    },
    {
     "name": "stdout",
     "output_type": "stream",
     "text": [
      "< what do they want ? EOS\n",
      "\n",
      "> chce nowy noz .\n",
      "= i want a new knife .\n"
     ]
    },
    {
     "data": {
      "image/png": "[encoded data removed]",
      "text/plain": [
       "<Figure size 432x288 with 1 Axes>"
      ]
     },
     "metadata": {
      "needs_background": "light",
      "tags": []
     },
     "output_type": "display_data"
    },
    {
     "name": "stdout",
     "output_type": "stream",
     "text": [
      "< i want a a knife than . EOS\n",
      "\n",
      "> zalozyli klub plywacki .\n",
      "= they formed a swim team .\n"
     ]
    },
    {
     "data": {
      "image/png": "[encoded data removed]",
      "text/plain": [
       "<Figure size 432x288 with 1 Axes>"
      ]
     },
     "metadata": {
      "needs_background": "light",
      "tags": []
     },
     "output_type": "display_data"
    },
    {
     "name": "stdout",
     "output_type": "stream",
     "text": [
      "< the curtains it lasted . EOS\n",
      "\n",
      "Epoch: 100. Train loss: 0.2404558720688025\n"
     ]
    }
   ],
   "source": [
    "hidden_size = 128\n",
    "embedding_size = 256\n",
    "encoder = EncoderRNN(input_lang.n_words, embedding_size, hidden_size).to(device)\n",
    "decoder = AttnDecoderRNN(output_lang.n_words, embedding_size, hidden_size).to(device)\n",
    "\n",
    "train(encoder, decoder, lr=0.005, epochs_num=100)"
   ]
  },
  {
   "cell_type": "markdown",
   "metadata": {
    "id": "LPmEeponfgob"
   },
   "source": [
    "# Powiązana literatura\n",
    "\n",
    "* [Sequence to Sequence Learning with Neural Networks](https://arxiv.org/abs/1409.3215)\n",
    "* [Neural Machine Translation by Jointly Learning to Align and Translate](https://arxiv.org/abs/1409.0473)\n",
    "\n",
    "## Przydatne tutoriale\n",
    "\n",
    "* https://pytorch.org/tutorials/intermediate/seq2seq_translation_tutorial.html\n",
    "* https://github.com/bentrevett/pytorch-seq2seq\n",
    "* https://github.com/gmum/AppliedDL2020/tree/master/Week%207 - materiały z kursu Applied Deep Learning prowadzonego w semestrze letnim\n"
   ]
  },
  {
   "cell_type": "markdown",
   "metadata": {
    "id": "FAoJGLVhV_-y"
   },
   "source": [
    "# Zadanie dodatkowe: Transformer (7 pkt.)\n",
    "\n",
    "Na podstawie pracy [Attention is All You Need](https://arxiv.org/abs/1706.03762) oraz strony [The Annotated Transformer](http://nlp.seas.harvard.edu/2018/04/03/attention) zaimplementuj transformera działającego na powyższym zadaniu tłumaczenia z polskiego na angielski.\n",
    "\n",
    "![transformer](http://nlp.seas.harvard.edu/images/the-annotated-transformer_14_0.png)"
   ]
  }
 ],
 "metadata": {
  "accelerator": "GPU",
  "colab": {
   "collapsed_sections": [],
   "name": "13_attention.ipynb",
   "provenance": [],
   "toc_visible": true
  },
  "kernelspec": {
   "display_name": "Python 3",
   "language": "python",
   "name": "python3"
  },
  "language_info": {
   "codemirror_mode": {
    "name": "ipython",
    "version": 3
   },
   "file_extension": ".py",
   "mimetype": "text/x-python",
   "name": "python",
   "nbconvert_exporter": "python",
   "pygments_lexer": "ipython3",
   "version": "3.7.9"
  }
 },
 "nbformat": 4,
 "nbformat_minor": 1
}
